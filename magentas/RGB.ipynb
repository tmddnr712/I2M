{
 "cells": [
  {
   "cell_type": "code",
   "execution_count": 14,
   "metadata": {},
   "outputs": [
    {
     "name": "stdout",
     "output_type": "stream",
     "text": [
      "[[[225 138 128]\n",
      "  [224 137 127]\n",
      "  [223 136 126]\n",
      "  ...\n",
      "  [234 146 126]\n",
      "  [220 129 110]\n",
      "  [197 104  86]]\n",
      "\n",
      " [[222 138 127]\n",
      "  [224 137 127]\n",
      "  [224 137 127]\n",
      "  ...\n",
      "  [235 150 130]\n",
      "  [218 131 112]\n",
      "  [189 102  83]]\n",
      "\n",
      " [[222 138 127]\n",
      "  [224 137 127]\n",
      "  [225 138 128]\n",
      "  ...\n",
      "  [230 148 127]\n",
      "  [215 133 112]\n",
      "  [190 105  85]]\n",
      "\n",
      " ...\n",
      "\n",
      " [[ 82  21  55]\n",
      "  [ 81  20  54]\n",
      "  [ 92  28  62]\n",
      "  ...\n",
      "  [175  71  82]\n",
      "  [175  68  78]\n",
      "  [175  65  74]]\n",
      "\n",
      " [[ 80  18  55]\n",
      "  [ 81  20  54]\n",
      "  [ 94  33  67]\n",
      "  ...\n",
      "  [177  69  82]\n",
      "  [182  70  82]\n",
      "  [183  72  81]]\n",
      "\n",
      " [[ 81  19  56]\n",
      "  [ 83  21  58]\n",
      "  [ 96  35  69]\n",
      "  ...\n",
      "  [178  68  81]\n",
      "  [183  71  83]\n",
      "  [188  74  84]]]\n",
      "(512, 512, 3)\n"
     ]
    }
   ],
   "source": [
    "# Third party modules\n",
    "import numpy\n",
    "from PIL import Image\n",
    "\n",
    "\n",
    "def get_image(image_path):\n",
    "    \"\"\"Get a numpy array of an image so that one can access values[x][y].\"\"\"\n",
    "    image = Image.open(image_path, \"r\")\n",
    "    width, height = image.size\n",
    "    pixel_values = list(image.getdata())\n",
    "    if image.mode == \"RGB\":\n",
    "        channels = 3\n",
    "    elif image.mode == \"L\":\n",
    "        channels = 1\n",
    "    else:\n",
    "        print(\"Unknown mode: %s\" % image.mode)\n",
    "        return None\n",
    "    pixel_values = numpy.array(pixel_values).reshape((width, height, channels))\n",
    "    return pixel_values\n",
    "\n",
    "\n",
    "image = get_image(\"lena.jpg\")\n",
    "\n",
    "print(image)\n",
    "print(image.shape)"
   ]
  },
  {
   "cell_type": "code",
   "execution_count": null,
   "metadata": {},
   "outputs": [],
   "source": []
  }
 ],
 "metadata": {
  "kernelspec": {
   "display_name": "Python 3",
   "language": "python",
   "name": "python3"
  },
  "language_info": {
   "codemirror_mode": {
    "name": "ipython",
    "version": 3
   },
   "file_extension": ".py",
   "mimetype": "text/x-python",
   "name": "python",
   "nbconvert_exporter": "python",
   "pygments_lexer": "ipython3",
   "version": "3.8.3"
  }
 },
 "nbformat": 4,
 "nbformat_minor": 4
}
