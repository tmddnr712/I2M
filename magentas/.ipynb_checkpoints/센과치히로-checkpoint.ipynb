{
 "cells": [
  {
   "cell_type": "code",
   "execution_count": null,
   "metadata": {},
   "outputs": [],
   "source": [
    "sen = music_pb2.NoteSequence()\n",
    "# 도60 도#61 레62 레#63 미64 파65 파#66 솔67 솔#68 라69 라#70 시71 도#72\n",
    "# Add the notes to the sequence.\n",
    "sen.notes.add(pitch=65, start_time=0.0, end_time=0.25, velocity=80) #파\n",
    "sen.notes.add(pitch=67, start_time=0.25, end_time=0.5, velocity=80) #솔\n",
    "sen.notes.add(pitch=69, start_time=0.5, end_time=0.75, velocity=80) #라\n",
    "sen.notes.add(pitch=65, start_time=0.75, end_time=1.0, velocity=80) #파\n",
    "sen.notes.add(pitch=72, start_time=1.0, end_time=1.75, velocity=80) #도\n",
    "sen.notes.add(pitch=69, start_time=1.75, end_time=2.0, velocity=80) #라\n",
    "sen.notes.add(pitch=67, start_time=2.0, end_time=2.5, velocity=80) #솔\n",
    "sen.notes.add(pitch=72, start_time=2.5, end_time=3.0, velocity=80) #도\n",
    "sen.notes.add(pitch=67, start_time=3.0, end_time=3.5, velocity=80) #솔\n",
    "sen.notes.add(pitch=65, start_time=3.5, end_time=3.75, velocity=80) #파\n",
    "sen.notes.add(pitch=62, start_time=3.75, end_time=4.0, velocity=80) #레\n",
    "sen.notes.add(pitch=69, start_time=4.0, end_time=4.75, velocity=80) #라\n",
    "sen.notes.add(pitch=65, start_time=4.75, end_time=5.0, velocity=80) #파\n",
    "sen.notes.add(pitch=64, start_time=5.0, end_time=5.5, velocity=80) #미\n",
    "\n",
    " \n",
    "sen.total_time = 5.5\n",
    "\n",
    "sen.tempos.add(qpm=60);\n",
    "\n",
    "# This is a colab utility method that visualizes a NoteSequence.\n",
    "note_seq.plot_sequence(sen)\n",
    "\n",
    "# This is a colab utility method that plays a NoteSequence.\n",
    "note_seq.play_sequence(sen,synth=note_seq.fluidsynth)"
   ]
  }
 ],
 "metadata": {
  "kernelspec": {
   "display_name": "Python 3",
   "language": "python",
   "name": "python3"
  },
  "language_info": {
   "codemirror_mode": {
    "name": "ipython",
    "version": 3
   },
   "file_extension": ".py",
   "mimetype": "text/x-python",
   "name": "python",
   "nbconvert_exporter": "python",
   "pygments_lexer": "ipython3",
   "version": "3.8.3"
  }
 },
 "nbformat": 4,
 "nbformat_minor": 4
}
